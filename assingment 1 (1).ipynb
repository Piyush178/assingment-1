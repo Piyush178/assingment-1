{
 "cells": [
  {
   "cell_type": "code",
   "execution_count": 5,
   "id": "dae41102-85d5-4c74-b70c-20a198c2ee3a",
   "metadata": {},
   "outputs": [],
   "source": [
    "# Q1.\n",
    "# A1 = Guido van Rossum"
   ]
  },
  {
   "cell_type": "code",
   "execution_count": 6,
   "id": "6e4ab8d8-425e-4b82-beff-4194e7887b7c",
   "metadata": {},
   "outputs": [],
   "source": [
    "# Q2\n",
    "# A2 = PYTHON  is an object-oriented, structured, and functional programming."
   ]
  },
  {
   "cell_type": "code",
   "execution_count": 7,
   "id": "dab5ac3d-d4b7-4895-a3db-18a661dfd34d",
   "metadata": {},
   "outputs": [],
   "source": [
    "# Q3 \n",
    "# A3 = YES Python is case sensitive when dealing with identifiers because Case is always significant while dealing with identifiers in python."
   ]
  },
  {
   "cell_type": "code",
   "execution_count": 8,
   "id": "f3601d61-67b6-498c-873f-9cc4ff482fc0",
   "metadata": {},
   "outputs": [],
   "source": [
    "# Q4\n",
    "# A4 =  py, . pyi, . pyc, ARE THE Correct extention for python files"
   ]
  },
  {
   "cell_type": "code",
   "execution_count": 9,
   "id": "fa1fe05e-da63-403c-9976-89466bda83cc",
   "metadata": {},
   "outputs": [],
   "source": [
    "# Q5 \n",
    "# A5 =  Python is an interpreted language and not a compiled one "
   ]
  },
  {
   "cell_type": "code",
   "execution_count": 10,
   "id": "d5c6c580-d2f1-4956-aead-912d385c124e",
   "metadata": {},
   "outputs": [],
   "source": [
    "# Q6 \n",
    "# A6 =  A module, a function body, and a class definition."
   ]
  },
  {
   "cell_type": "code",
   "execution_count": 11,
   "id": "83167633-f742-42c0-a4b6-f61fd69a6a7a",
   "metadata": {},
   "outputs": [],
   "source": [
    "# Q7\n",
    "# A7  = #"
   ]
  },
  {
   "cell_type": "code",
   "execution_count": 12,
   "id": "80ed0f4d-aabd-4113-abc8-537203bc0900",
   "metadata": {},
   "outputs": [],
   "source": [
    "# Q8 \n",
    "# A8 = sys. version can help you find the version of python that are you currently working on."
   ]
  },
  {
   "cell_type": "code",
   "execution_count": 13,
   "id": "9f75bb06-692f-4c74-aedc-a2ef7e91ed60",
   "metadata": {},
   "outputs": [],
   "source": [
    "# Q9 \n",
    "# A9 = lambda"
   ]
  },
  {
   "cell_type": "code",
   "execution_count": 14,
   "id": "11a9ceb0-ec9e-4c30-b636-c40b129669ef",
   "metadata": {},
   "outputs": [],
   "source": [
    "# Q10 \n",
    "# A10 = pip install packages"
   ]
  },
  {
   "cell_type": "code",
   "execution_count": 15,
   "id": "2dccd542-1715-4fc4-9f65-e7e4d96192ca",
   "metadata": {},
   "outputs": [],
   "source": [
    "# Q11 \n",
    "# A11 = print() , insert() , input() , type(). len() etc"
   ]
  },
  {
   "cell_type": "code",
   "execution_count": 16,
   "id": "4be3ccb8-a234-45c1-b2b6-7ade672c8e3c",
   "metadata": {},
   "outputs": [],
   "source": [
    "# Q 12 \n",
    "# A12 = 79 "
   ]
  },
  {
   "cell_type": "code",
   "execution_count": 17,
   "id": "20aff8bb-73e5-493c-abbb-96aa361fc6c0",
   "metadata": {},
   "outputs": [],
   "source": [
    "# Q13 \n",
    "# A13 = Data science , web develpment  , computer graphics , big data ,  game development  etc"
   ]
  },
  {
   "cell_type": "code",
   "execution_count": 18,
   "id": "54d00654-ff45-419a-ba3c-6117e0ecad0d",
   "metadata": {},
   "outputs": [],
   "source": [
    "# Q14 \n",
    "# A14 =  Privte heap space contain all the python objects and data "
   ]
  },
  {
   "cell_type": "code",
   "execution_count": 19,
   "id": "4c29be2d-e5f8-42dd-812d-49580ef41395",
   "metadata": {},
   "outputs": [],
   "source": [
    "# Q15 \n",
    "# A15 = 1  Right-clicking This PC and going to Properties.\n",
    "\n",
    "#       2 Clicking on the Advanced system settings in the menu on the left.\n",
    "\n",
    "#       3 Clicking on the Environment Variables button o​n the bottom right\n",
    "    \n",
    "#       4 In the System variables section, selecting the Path variable and clicking on Edit. The next screen will show all the directories that are currently a part of the PATH variable.\n",
    "\n",
    "#       5 Clicking on New and entering Python’s install directory."
   ]
  },
  {
   "cell_type": "code",
   "execution_count": 20,
   "id": "40331ee3-9847-49da-99e1-12a8fba4c905",
   "metadata": {},
   "outputs": [],
   "source": [
    "# Q16 \n",
    "# A13 = Indentation is mandatory in python to define the block of statements."
   ]
  },
  {
   "cell_type": "code",
   "execution_count": null,
   "id": "457d38c1-b57d-48bd-a7f8-16f08419aedd",
   "metadata": {},
   "outputs": [],
   "source": []
  }
 ],
 "metadata": {
  "kernelspec": {
   "display_name": "Python 3 (ipykernel)",
   "language": "python",
   "name": "python3"
  },
  "language_info": {
   "codemirror_mode": {
    "name": "ipython",
    "version": 3
   },
   "file_extension": ".py",
   "mimetype": "text/x-python",
   "name": "python",
   "nbconvert_exporter": "python",
   "pygments_lexer": "ipython3",
   "version": "3.10.8"
  }
 },
 "nbformat": 4,
 "nbformat_minor": 5
}
